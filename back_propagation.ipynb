{
 "cells": [
  {
   "cell_type": "code",
   "execution_count": 2,
   "metadata": {},
   "outputs": [],
   "source": [
    "import torch"
   ]
  },
  {
   "cell_type": "code",
   "execution_count": 5,
   "metadata": {},
   "outputs": [
    {
     "name": "stdout",
     "output_type": "stream",
     "text": [
      "This is the output the loss of forward pass : tensor([1.], grad_fn=<PowBackward0>)\n",
      "This is the value after calculating the gradient (dLoss/dweight) : tensor([-2.])\n"
     ]
    }
   ],
   "source": [
    "# This will make us understand the BackPropagation\n",
    "\n",
    "input = torch.tensor([1])\n",
    "weight = torch.ones(1,requires_grad=True)\n",
    "output = torch.tensor([2])\n",
    "\n",
    "predicted = input*weight\n",
    "\n",
    "Loss = (output-predicted)**2\n",
    "print(f\"This is the output the loss of forward pass : {Loss}\")\n",
    "\n",
    "Loss.backward()\n",
    "print(f\"This is the value after calculating the gradient (dLoss/dweight) : {weight.grad}\")\n",
    "\n",
    "## Update weights\n",
    "## Next forward and backward pass\n"
   ]
  }
 ],
 "metadata": {
  "kernelspec": {
   "display_name": "pytorch",
   "language": "python",
   "name": "python3"
  },
  "language_info": {
   "codemirror_mode": {
    "name": "ipython",
    "version": 3
   },
   "file_extension": ".py",
   "mimetype": "text/x-python",
   "name": "python",
   "nbconvert_exporter": "python",
   "pygments_lexer": "ipython3",
   "version": "3.9.18"
  }
 },
 "nbformat": 4,
 "nbformat_minor": 2
}
