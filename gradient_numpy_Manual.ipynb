{
 "cells": [
  {
   "cell_type": "code",
   "execution_count": 2,
   "metadata": {},
   "outputs": [],
   "source": [
    "import numpy as np"
   ]
  },
  {
   "cell_type": "code",
   "execution_count": 7,
   "metadata": {},
   "outputs": [
    {
     "name": "stdout",
     "output_type": "stream",
     "text": [
      "Prediction Before Training : f(5) = 0.000000 \n",
      "epoch 1 : w = 1.200, loss : 30.00000000\n",
      "epoch 2 : w = 1.680, loss : 4.79999924\n",
      "epoch 3 : w = 1.872, loss : 0.76800019\n",
      "epoch 4 : w = 1.949, loss : 0.12288000\n",
      "epoch 5 : w = 1.980, loss : 0.01966083\n",
      "epoch 6 : w = 1.992, loss : 0.00314574\n",
      "epoch 7 : w = 1.997, loss : 0.00050331\n",
      "epoch 8 : w = 1.999, loss : 0.00008053\n",
      "epoch 9 : w = 1.999, loss : 0.00001288\n",
      "epoch 10 : w = 2.000, loss : 0.00000206\n",
      "Prediction After Training : f(5) : 9.999\n"
     ]
    }
   ],
   "source": [
    "# Here we build linear regression manually  (Each calculation done manually )\n",
    "\n",
    "# f = w * x  >>> f = 2 * x\n",
    "X = np.array([1,2,3,4], dtype=np.float32) # Input Array\n",
    "Y = np.array([2,4,6,8], dtype=np.float32) # Output Array (That we want the model to predict) \n",
    "\n",
    "w = 0.0\n",
    "\n",
    "# Calculating Model Prediction (We put it in forward pass)\n",
    "def forward(x):\n",
    "    return w*x\n",
    "\n",
    "# Calculate the loss (We create a loss function for it)\n",
    "def loss(y,y_pred):\n",
    "    return ((y-y_pred)**2).mean()\n",
    "\n",
    "# Gradient of the loss w.r.t our parameters\n",
    "# MSE = 1/N*(w*x-y)**2\n",
    "# dJ/dw = 1/N*2(w*x-y)x\n",
    "\n",
    "def gradient(x,y,y_predicted):\n",
    "    return np.dot(2*x,y-y_predicted).mean()\n",
    "\n",
    "print(f\"Prediction Before Training : f(5) = {forward(5):3f} \")\n",
    "\n",
    "# Learning Rate\n",
    "lr = 0.01\n",
    "n_iters = 10\n",
    "\n",
    "for epoch in range(n_iters):\n",
    "\n",
    "   # Forward Pass\n",
    "    y_pred = forward(X)\n",
    "\n",
    "    #Loss\n",
    "    l = loss(Y,y_pred)\n",
    "\n",
    "    # Gradient\n",
    "    dw = gradient(X,Y,y_pred)\n",
    "    \n",
    "    # Update Weights\n",
    "    w = w + lr*dw\n",
    "\n",
    "    if epoch%1 == 0:\n",
    "        print(f'epoch {epoch+1} : w = {w:.3f}, loss : {l:.8f}')\n",
    "\n",
    "print(f\"Prediction After Training : f(5) : {forward(5):.3f}\")"
   ]
  }
 ],
 "metadata": {
  "kernelspec": {
   "display_name": "pytorch",
   "language": "python",
   "name": "python3"
  },
  "language_info": {
   "codemirror_mode": {
    "name": "ipython",
    "version": 3
   },
   "file_extension": ".py",
   "mimetype": "text/x-python",
   "name": "python",
   "nbconvert_exporter": "python",
   "pygments_lexer": "ipython3",
   "version": "3.9.18"
  }
 },
 "nbformat": 4,
 "nbformat_minor": 2
}
