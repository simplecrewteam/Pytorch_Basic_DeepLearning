{
 "cells": [
  {
   "cell_type": "code",
   "execution_count": 1,
   "metadata": {},
   "outputs": [],
   "source": [
    "import torch"
   ]
  },
  {
   "cell_type": "code",
   "execution_count": 11,
   "metadata": {},
   "outputs": [
    {
     "name": "stdout",
     "output_type": "stream",
     "text": [
      "Prediction Before Training : f(5) = 0.0\n",
      "Epoch 1 : weight : 0.300 ,  loss : 30.000\n",
      "Epoch 3 : weight : 0.772 ,  loss : 15.660\n",
      "Epoch 5 : weight : 1.113 ,  loss : 8.175\n",
      "Epoch 7 : weight : 1.359 ,  loss : 4.267\n",
      "Epoch 9 : weight : 1.537 ,  loss : 2.228\n",
      "Epoch 11 : weight : 1.665 ,  loss : 1.163\n",
      "Epoch 13 : weight : 1.758 ,  loss : 0.607\n",
      "Epoch 15 : weight : 1.825 ,  loss : 0.317\n",
      "Epoch 17 : weight : 1.874 ,  loss : 0.165\n",
      "Epoch 19 : weight : 1.909 ,  loss : 0.086\n",
      "Prediction After Training : f(5) = 9.612\n"
     ]
    }
   ],
   "source": [
    "# Here we use the autograd package of pytorch\n",
    "\n",
    "input = torch.tensor([1,2,3,4], dtype=torch.float32)\n",
    "output = torch.tensor([2,4,6,8], dtype=torch.float32)\n",
    "\n",
    "\n",
    "weight =torch.tensor(0.0,requires_grad=True ,dtype=torch.float32)\n",
    "\n",
    "def forward(input):\n",
    "    return input*weight\n",
    "\n",
    "def loss(output,predicted):\n",
    "    return ((output-predicted)**2).mean()\n",
    "\n",
    "print(f\"Prediction Before Training : f(5) = {forward(5)}\")\n",
    "\n",
    "#Learning Rate\n",
    "lr = 0.01\n",
    "n_iters = 20\n",
    "\n",
    "for epoch in range(n_iters):\n",
    "\n",
    "# Forward Pass\n",
    "    predicted = forward(input)\n",
    "\n",
    "    # Calculate Loss\n",
    "    l = loss(output,predicted)\n",
    "\n",
    "    # Calculate and Store Gradient\n",
    "    l.backward()\n",
    "\n",
    "    #Update the Weights\n",
    "    with torch.no_grad():\n",
    "        weight -= lr*weight.grad\n",
    "\n",
    "    #zero gradients\n",
    "    weight.grad.zero_()\n",
    "    \n",
    "    if epoch%2 == 0:\n",
    "        print(f\"Epoch {epoch+1} : weight : {weight:.3f} ,  loss : {l:.3f}\")\n",
    "\n",
    "print(f\"Prediction After Training : f(5) = {forward(5):.3f}\")\n"
   ]
  }
 ],
 "metadata": {
  "kernelspec": {
   "display_name": "pytorch",
   "language": "python",
   "name": "python3"
  },
  "language_info": {
   "codemirror_mode": {
    "name": "ipython",
    "version": 3
   },
   "file_extension": ".py",
   "mimetype": "text/x-python",
   "name": "python",
   "nbconvert_exporter": "python",
   "pygments_lexer": "ipython3",
   "version": "3.9.18"
  }
 },
 "nbformat": 4,
 "nbformat_minor": 2
}
